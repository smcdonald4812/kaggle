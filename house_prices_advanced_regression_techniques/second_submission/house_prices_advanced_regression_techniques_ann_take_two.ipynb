{
  "nbformat": 4,
  "nbformat_minor": 0,
  "metadata": {
    "colab": {
      "provenance": []
    },
    "kernelspec": {
      "name": "python3",
      "display_name": "Python 3"
    },
    "language_info": {
      "name": "python"
    }
  },
  "cells": [
    {
      "cell_type": "code",
      "execution_count": null,
      "metadata": {
        "id": "dqRY2cqjrv63"
      },
      "outputs": [],
      "source": [
        "!pip install kaggle"
      ]
    },
    {
      "cell_type": "code",
      "source": [
        "# the imports\n",
        "import pandas as pd\n",
        "import numpy as np\n",
        "import sklearn\n",
        "import seaborn as sns\n",
        "import matplotlib.pyplot as plt\n",
        "from google.colab import drive\n",
        "from google.colab import files\n",
        "from sklearn import feature_selection\n",
        "from sklearn.preprocessing import MinMaxScaler\n",
        "from sklearn.model_selection import train_test_split\n",
        "from tensorflow.keras.models import Sequential\n",
        "from tensorflow.keras.layers import Dense, Dropout\n",
        "from tensorflow.keras.callbacks import EarlyStopping\n",
        "from matplotlib import pyplot as plt"
      ],
      "metadata": {
        "id": "s6UPmliDr-ui"
      },
      "execution_count": 1,
      "outputs": []
    },
    {
      "cell_type": "code",
      "source": [
        "# upload kaggle.json (kaggle creds file) for the kaggle api\n",
        "files.upload()"
      ],
      "metadata": {
        "id": "wbShdLRgsHWA"
      },
      "execution_count": null,
      "outputs": []
    },
    {
      "cell_type": "code",
      "source": [
        "# make, copy, set permissions, download, unzip\n",
        "!ls -lha kaggle.json\n",
        "!mkdir -p ~/.kaggle\n",
        "!cp kaggle.json ~/.kaggle/\n",
        "!chmod 600 /root/.kaggle/kaggle.json\n",
        "!pwd\n",
        "!kaggle competitions download -c house-prices-advanced-regression-techniques\n",
        "!unzip house-prices-advanced-regression-techniques.zip"
      ],
      "metadata": {
        "id": "2S1WPr5FsOXb",
        "colab": {
          "base_uri": "https://localhost:8080/"
        },
        "outputId": "cc530bff-a740-4134-e7b7-ba1cb4bf2ba8"
      },
      "execution_count": 3,
      "outputs": [
        {
          "output_type": "stream",
          "name": "stdout",
          "text": [
            "-rw-r--r-- 1 root root 72 Jul 28 15:00 kaggle.json\n",
            "/content\n",
            "Downloading house-prices-advanced-regression-techniques.zip to /content\n",
            "  0% 0.00/199k [00:00<?, ?B/s]\n",
            "100% 199k/199k [00:00<00:00, 110MB/s]\n",
            "Archive:  house-prices-advanced-regression-techniques.zip\n",
            "  inflating: data_description.txt    \n",
            "  inflating: sample_submission.csv   \n",
            "  inflating: test.csv                \n",
            "  inflating: train.csv               \n"
          ]
        }
      ]
    },
    {
      "cell_type": "code",
      "source": [
        "# to pandas\n",
        "data_desc = pd.read_fwf('data_description.txt')\n",
        "data_samp_sub = pd.read_csv('sample_submission.csv')\n",
        "test = pd.read_csv('test.csv')\n",
        "train = pd.read_csv('train.csv')"
      ],
      "metadata": {
        "id": "-B-1u8_nsXFy"
      },
      "execution_count": 74,
      "outputs": []
    },
    {
      "cell_type": "code",
      "source": [
        "def categorical_scaling(ordered_category_list, data):\n",
        "  tmp = list(range(1,len(ordered_category_list)))\n",
        "  t = {data[i]: tmp[i] for i in range(len(tmp))}\n",
        "  data = data.map(t)\n",
        "  return data"
      ],
      "metadata": {
        "id": "GV3Hn9PRzxeu"
      },
      "execution_count": 55,
      "outputs": []
    },
    {
      "cell_type": "code",
      "source": [
        "def clean_data(data):\n",
        "  \"\"\"\n",
        "  Sifting, sorting, feature engineering, the good stuff....\n",
        "  This time I am going to try and look for features akin to what is listed on realtor sites and items from investopedia (age, rooms, bathrooms, sq. ft, location, etc.)\n",
        "  I will drop features as much as possible.\n",
        "  :param data: The pandas DataFrame being manipulated for this specific problem\n",
        "  \"\"\"\n",
        "  '''\n",
        "  has pool done\n",
        "  age done\n",
        "  has basement done\n",
        "  total rooms done\n",
        "  bathrooms done\n",
        "  bedrooms done\n",
        "  total home sq ft done\n",
        "  neighborhood (order by median in train to reassign for train and test) done\n",
        "  has fireplace done\n",
        "  acreage done\n",
        "  condition (although it may be subjective in this dataset) done\n",
        "  single family bool done\n",
        "  heating type bool done\n",
        "  '''\n",
        "\n",
        "  # dropping Year Built as year remodeled contains latest year worked on or year built (almost the same data and correlation)\n",
        "  # leaving remodeled at scale as newer (larger number) seems to translate to higher value\n",
        "  data.drop('YearBuilt', axis=1, inplace=True)\n",
        "  # dropping poolqc as no obvious (strong) correlation\n",
        "  data.drop('PoolQC', axis=1,inplace=True)\n",
        "  # turning pool area into a has pool bool\n",
        "  data['PoolArea'] = np.where(data['PoolArea'] > 0,1,0)\n",
        "  # dropping Street\n",
        "  data.drop('Street', axis=1,inplace=True)\n",
        "  # dropping MSZoning this time\n",
        "  data.drop('MSZoning', axis=1,inplace=True)\n",
        "  # I believe paved allys would likely be in less rural areas. Cities can have paved allys in poor or better neighboorhoods. Using one hot might weigh model toward paved when places have none as well.\n",
        "  data.drop('Alley', axis=1, inplace=True)\n",
        "  # LandContour and LotShape have similar BoxPlots and may be correlated. Dropping LotShape. Dropping LandContour as homes already exist on the land.\n",
        "  data.drop('LandContour', axis=1, inplace=True)\n",
        "  data.drop('LotShape', axis=1, inplace=True)\n",
        "  # drop both LotConfig and LandSlope\n",
        "  data.drop('LotConfig', axis=1, inplace=True)\n",
        "  data.drop('LandSlope', axis=1, inplace=True)\n",
        "  # dropping feature desciption and keeping value, value should be indicative without the item class for regression. Also, The shed has a wide range of added value.\n",
        "  data.drop('MiscFeature', axis=1, inplace=True)\n",
        "  # switching BldgType to two categories, single family or not\n",
        "  data['BldgCatSingle'] = np.where(data['BldgType'] == '1Fam',1,0)\n",
        "  # drop bldgType now that BldgCatSingle available\n",
        "  data.drop('BldgType', axis=1, inplace=True)\n",
        "  # drop HouseStyle and MSSubClass\n",
        "  data.drop('HouseStyle', axis=1, inplace=True)\n",
        "  data.drop('MSSubClass', axis=1, inplace=True)\n",
        "  # keeping lot area this time for acreage calc\n",
        "  # dropping Utilities as this seems primarily be sampling of city with municiplal, no as unique\n",
        "  data.drop('Utilities', axis=1, inplace=True)\n",
        "  # Neighborhood moved out of the this function for train only calcs to apply to test\n",
        "  # dropping second condition and drop first condition\n",
        "  data.drop('Condition2', axis=1, inplace=True)\n",
        "  data.drop('Condition1', axis=1, inplace=True)\n",
        "  # OverallQual kept the same\n",
        "  # OverallCond dropped (not as ordered)\n",
        "  data.drop('OverallCond', axis=1, inplace=True)\n",
        "  # RoofMatl drop\n",
        "  data.drop('RoofMatl', axis=1, inplace=True)\n",
        "  # Roof style does not seem as correlative dropping\n",
        "  data.drop('RoofStyle', axis=1, inplace=True)\n",
        "  # siding might be wrong, both 1st and 2nd list shingles (roofing) as a type of common siding. Dropping them.\n",
        "  data.drop(['Exterior1st','Exterior2nd'], axis=1, inplace=True)\n",
        "  # not correlating to sale price visually\n",
        "  data.drop('MasVnrArea', axis=1, inplace=True)\n",
        "  # not on the list dropping\n",
        "  data.drop('MasVnrType', axis=1, inplace=True)\n",
        "  # Rescale to numeric ExterCond without dummies (want one column with 1-5 with 5 being best)\n",
        "  data['ExterCond'] = categorical_scaling(['PO', 'FA', 'TA', 'GD', 'EX'], data['ExterCond'])\n",
        "  data['ExterCond'] = np.nan_to_num(data['ExterCond'])\n",
        "  # Drop ExterQual\n",
        "  data.drop('ExterQual', axis=1, inplace=True)\n",
        "  # foundation seems non-correlative\n",
        "  data.drop('Foundation', axis=1, inplace=True)\n",
        "  # replacing with bool for has basement\n",
        "  data['BsmtCond'] = np.where(data['BsmtCond'] != np.nan, 1, 0)\n",
        "  # drop features that don't look correlative\n",
        "  data.drop(['BsmtQual','BsmtExposure','BsmtFinType1','BsmtFinType2','BsmtFinSF1',\n",
        "                    'BsmtFinSF2','BsmtUnfSF','TotalBsmtSF'], axis=1, inplace=True)\n",
        "  # drop feature that does not seem correlative\n",
        "  data.drop(['SaleType','SaleCondition'], axis=1, inplace=True)\n",
        "  # drop feature that does not seem correlative (this data set does have noticable mean differences for year/month)\n",
        "  data.drop(['MoSold','YrSold'], axis=1, inplace=True)\n",
        "  # drop\n",
        "  data.drop('Fence', axis=1, inplace=True)\n",
        "  # type with gas in name correlated to much higher prices\n",
        "  data['Heating'] = np.where(data['Heating'].str.contains('Gas', regex=True),1,0)\n",
        "  # drop (ohio data)\n",
        "  data.drop('CentralAir', axis=1, inplace=True)\n",
        "  # subjective and not highly correlative\n",
        "  data.drop('HeatingQC', axis=1, inplace=True)\n",
        "  # dropping\n",
        "  data.drop('Electrical', axis=1, inplace=True)\n",
        "  # drop\n",
        "  data.drop('LowQualFinSF', axis=1, inplace=True)\n",
        "  # utilize count of baths and drop bath features\n",
        "  data['BathCount'] = (data['BsmtFullBath'] + data['FullBath']) + (data['BsmtHalfBath'] + data['HalfBath'] *.5)\n",
        "  # ensure no nans\n",
        "  data['BathCount'] = np.nan_to_num(data['BathCount'])\n",
        "  data.drop(['BsmtFullBath', 'FullBath', 'BsmtHalfBath', 'HalfBath'], axis=1, inplace=True)\n",
        "  # getting counts\n",
        "  data['TotalRooms'] = data['BedroomAbvGr'] + data['KitchenAbvGr'] + data['BathCount']\n",
        "  data.drop('KitchenAbvGr', axis=1, inplace=True)\n",
        "  # drop KitchenQual\n",
        "  data.drop('KitchenQual', axis=1, inplace=True)\n",
        "  # drop as not obviously correlative\n",
        "  data.drop('Functional', axis=1, inplace=True)\n",
        "  # switch count to bool\n",
        "  data['Fireplaces'] = np.where(data['Fireplaces'] > 0,1,0)\n",
        "  # drop\n",
        "  data.drop('FireplaceQu', axis=1, inplace=True)\n",
        "  # various garage items not highly correlative\n",
        "  data.drop(['GarageType','GarageYrBlt','GarageFinish','GarageArea','GarageQual','GarageCond'],axis=1,inplace=True)\n",
        "  # drop\n",
        "  data.drop('PavedDrive', axis=1, inplace=True)\n",
        "  # drop various features deemed uncorrelative or unimportant\n",
        "  data.drop('WoodDeckSF',axis=1,inplace=True)\n",
        "  data.drop('OpenPorchSF',axis=1,inplace=True)\n",
        "  data.drop('EnclosedPorch',axis=1,inplace=True)\n",
        "  data.drop('3SsnPorch',axis=1,inplace=True)\n",
        "  data.drop('ScreenPorch',axis=1,inplace=True)\n",
        "  data.drop('LotFrontage',axis=1,inplace=True)\n",
        "  return data"
      ],
      "metadata": {
        "id": "_Vh-SMQMr4Ey"
      },
      "execution_count": 72,
      "outputs": []
    },
    {
      "cell_type": "code",
      "source": [
        "# update test and train with the feature engineering changes\n",
        "train = clean_data(train)\n",
        "test = clean_data(test)\n",
        "train.columns = train.columns.astype(str)\n",
        "test.columns = test.columns.astype(str)"
      ],
      "metadata": {
        "id": "Ixcb-xk0srHi"
      },
      "execution_count": 75,
      "outputs": []
    },
    {
      "cell_type": "code",
      "source": [
        "# neighborhoods median price\n",
        "l = train['SalePrice'].groupby(train['Neighborhood']).mean().to_dict()\n",
        "train['Neighborhood'] = train['Neighborhood'].map(l)\n",
        "test['Neighborhood'] = test['Neighborhood'].map(l)"
      ],
      "metadata": {
        "id": "AdPp64KmIgTx"
      },
      "execution_count": 76,
      "outputs": []
    },
    {
      "cell_type": "code",
      "source": [
        "train.info()"
      ],
      "metadata": {
        "colab": {
          "base_uri": "https://localhost:8080/"
        },
        "id": "Dtr1oxmOL4OA",
        "outputId": "63225fbc-a33d-4048-cfd9-b3689355d0cb"
      },
      "execution_count": 77,
      "outputs": [
        {
          "output_type": "stream",
          "name": "stdout",
          "text": [
            "<class 'pandas.core.frame.DataFrame'>\n",
            "RangeIndex: 1460 entries, 0 to 1459\n",
            "Data columns (total 21 columns):\n",
            " #   Column         Non-Null Count  Dtype  \n",
            "---  ------         --------------  -----  \n",
            " 0   Id             1460 non-null   int64  \n",
            " 1   LotArea        1460 non-null   int64  \n",
            " 2   Neighborhood   1460 non-null   float64\n",
            " 3   OverallQual    1460 non-null   int64  \n",
            " 4   YearRemodAdd   1460 non-null   int64  \n",
            " 5   ExterCond      1460 non-null   float64\n",
            " 6   BsmtCond       1460 non-null   int64  \n",
            " 7   Heating        1460 non-null   int64  \n",
            " 8   1stFlrSF       1460 non-null   int64  \n",
            " 9   2ndFlrSF       1460 non-null   int64  \n",
            " 10  GrLivArea      1460 non-null   int64  \n",
            " 11  BedroomAbvGr   1460 non-null   int64  \n",
            " 12  TotRmsAbvGrd   1460 non-null   int64  \n",
            " 13  Fireplaces     1460 non-null   int64  \n",
            " 14  GarageCars     1460 non-null   int64  \n",
            " 15  PoolArea       1460 non-null   int64  \n",
            " 16  MiscVal        1460 non-null   int64  \n",
            " 17  SalePrice      1460 non-null   int64  \n",
            " 18  BldgCatSingle  1460 non-null   int64  \n",
            " 19  BathCount      1460 non-null   float64\n",
            " 20  TotalRooms     1460 non-null   float64\n",
            "dtypes: float64(4), int64(17)\n",
            "memory usage: 239.7 KB\n"
          ]
        }
      ]
    },
    {
      "cell_type": "code",
      "source": [
        "# split, scale, set early stopping\n",
        "labels = train['SalePrice']\n",
        "features = train.drop('SalePrice',axis=1)\n",
        "X_train, X_test, y_train, y_test = train_test_split(features, labels, test_size=0.3, random_state=42)\n",
        "scaler = MinMaxScaler()\n",
        "X_train = scaler.fit_transform(X_train)\n",
        "X_test = scaler.transform(X_test)\n",
        "early_stop = EarlyStopping(monitor='val_loss',verbose=1,patience=25)"
      ],
      "metadata": {
        "id": "IPBdgaQms28i"
      },
      "execution_count": 78,
      "outputs": []
    },
    {
      "cell_type": "code",
      "source": [
        "# sequential ann model set for linear with mse loss\n",
        "model = Sequential()\n",
        "model.add(Dense(100,activation='relu'))\n",
        "#model.add(Dropout(rate=.7))\n",
        "model.add(Dense(75,activation='relu'))\n",
        "#model.add(Dropout(rate=.6))\n",
        "model.add(Dense(50,activation='relu'))\n",
        "#model.add(Dropout(rate=.5))\n",
        "model.add(Dense(25,activation='relu'))\n",
        "#model.add(Dropout(rate=.4))\n",
        "model.add(Dense(1,activation='linear'))\n",
        "model.compile(loss='mse',optimizer='adam')"
      ],
      "metadata": {
        "id": "z5qdGsH5tU8b"
      },
      "execution_count": 79,
      "outputs": []
    },
    {
      "cell_type": "code",
      "source": [
        "# fit the model to the test data\n",
        "hist = model.fit(x=X_train,y=y_train,epochs=500, validation_data=(X_test,y_test),callbacks=[early_stop])"
      ],
      "metadata": {
        "id": "oSeuqdFBthgJ"
      },
      "execution_count": null,
      "outputs": []
    },
    {
      "cell_type": "code",
      "source": [
        "# mount and save model if wanted, I utilized Colab notebooks for this\n",
        "model.save('./drive/MyDrive/Colab_Notebooks/adv_reg_model_10.keras')"
      ],
      "metadata": {
        "id": "H8V0_hxGtyIZ"
      },
      "execution_count": 81,
      "outputs": []
    },
    {
      "cell_type": "code",
      "source": [
        "# Plot the loss\n",
        "plt.plot(hist.history['loss'])\n",
        "plt.plot(hist.history['val_loss'])\n",
        "plt.title('model loss')\n",
        "plt.ylabel('loss')\n",
        "plt.xlabel('epoch')\n",
        "plt.legend(['train', 'val'], loc='upper left')\n",
        "plt.show()"
      ],
      "metadata": {
        "colab": {
          "base_uri": "https://localhost:8080/",
          "height": 472
        },
        "id": "Tt8XDjSouAOB",
        "outputId": "9a74b57e-8fd3-40ad-ee2e-a3ac089098a3"
      },
      "execution_count": 82,
      "outputs": [
        {
          "output_type": "display_data",
          "data": {
            "text/plain": [
              "<Figure size 640x480 with 1 Axes>"
            ],
            "image/png": "[encoded data removed]"
          },
          "metadata": {}
        }
      ]
    },
    {
      "cell_type": "code",
      "source": [
        "# checking X_test output\n",
        "z = model.predict(X_test)\n",
        "print(z[0])"
      ],
      "metadata": {
        "colab": {
          "base_uri": "https://localhost:8080/"
        },
        "id": "cC_XMkw-k5tR",
        "outputId": "80e8201f-c50b-4a36-ef83-a50f8f4215a7"
      },
      "execution_count": 83,
      "outputs": [
        {
          "output_type": "stream",
          "name": "stdout",
          "text": [
            "14/14 [==============================] - 0s 1ms/step\n",
            "[143991.17]\n"
          ]
        }
      ]
    },
    {
      "cell_type": "code",
      "source": [
        "# scale the test\n",
        "test = scaler.transform(test)"
      ],
      "metadata": {
        "id": "y9SS8ZiGmPiu"
      },
      "execution_count": 84,
      "outputs": []
    },
    {
      "cell_type": "code",
      "source": [
        "b = model.predict(test)"
      ],
      "metadata": {
        "id": "UyvxHPM2mcVW",
        "colab": {
          "base_uri": "https://localhost:8080/"
        },
        "outputId": "6ba21c47-011c-49af-abd5-6e6a0ab55e53"
      },
      "execution_count": 85,
      "outputs": [
        {
          "output_type": "stream",
          "name": "stdout",
          "text": [
            "46/46 [==============================] - 0s 967us/step\n"
          ]
        }
      ]
    },
    {
      "cell_type": "code",
      "source": [
        "data_samp_sub['SalePrice'] = b"
      ],
      "metadata": {
        "id": "a6eb-lgbmiqf"
      },
      "execution_count": 86,
      "outputs": []
    },
    {
      "cell_type": "code",
      "source": [
        "temp_samp = pd.read_csv('sample_submission.csv')\n",
        "temp_samp"
      ],
      "metadata": {
        "colab": {
          "base_uri": "https://localhost:8080/",
          "height": 424
        },
        "id": "M7_XNuDPqirl",
        "outputId": "260042cb-6080-4074-c4ef-4e9f2d8fb533"
      },
      "execution_count": 87,
      "outputs": [
        {
          "output_type": "execute_result",
          "data": {
            "text/plain": [
              "        Id      SalePrice\n",
              "0     1461  169277.052498\n",
              "1     1462  187758.393989\n",
              "2     1463  183583.683570\n",
              "3     1464  179317.477511\n",
              "4     1465  150730.079977\n",
              "...    ...            ...\n",
              "1454  2915  167081.220949\n",
              "1455  2916  164788.778231\n",
              "1456  2917  219222.423400\n",
              "1457  2918  184924.279659\n",
              "1458  2919  187741.866657\n",
              "\n",
              "[1459 rows x 2 columns]"
            ],
            "text/html": [
              "\n",
              "\n",
              "  <div id=\"df-47f6dab4-c107-4a04-96e8-7142dbdda268\">\n",
              "    <div class=\"colab-df-container\">\n",
              "      <div>\n",
              "<style scoped>\n",
              "    .dataframe tbody tr th:only-of-type {\n",
              "        vertical-align: middle;\n",
              "    }\n",
              "\n",
              "    .dataframe tbody tr th {\n",
              "        vertical-align: top;\n",
              "    }\n",
              "\n",
              "    .dataframe thead th {\n",
              "        text-align: right;\n",
              "    }\n",
              "</style>\n",
              "<table border=\"1\" class=\"dataframe\">\n",
              "  <thead>\n",
              "    <tr style=\"text-align: right;\">\n",
              "      <th></th>\n",
              "      <th>Id</th>\n",
              "      <th>SalePrice</th>\n",
              "    </tr>\n",
              "  </thead>\n",
              "  <tbody>\n",
              "    <tr>\n",
              "      <th>0</th>\n",
              "      <td>1461</td>\n",
              "      <td>169277.052498</td>\n",
              "    </tr>\n",
              "    <tr>\n",
              "      <th>1</th>\n",
              "      <td>1462</td>\n",
              "      <td>187758.393989</td>\n",
              "    </tr>\n",
              "    <tr>\n",
              "      <th>2</th>\n",
              "      <td>1463</td>\n",
              "      <td>183583.683570</td>\n",
              "    </tr>\n",
              "    <tr>\n",
              "      <th>3</th>\n",
              "      <td>1464</td>\n",
              "      <td>179317.477511</td>\n",
              "    </tr>\n",
              "    <tr>\n",
              "      <th>4</th>\n",
              "      <td>1465</td>\n",
              "      <td>150730.079977</td>\n",
              "    </tr>\n",
              "    <tr>\n",
              "      <th>...</th>\n",
              "      <td>...</td>\n",
              "      <td>...</td>\n",
              "    </tr>\n",
              "    <tr>\n",
              "      <th>1454</th>\n",
              "      <td>2915</td>\n",
              "      <td>167081.220949</td>\n",
              "    </tr>\n",
              "    <tr>\n",
              "      <th>1455</th>\n",
              "      <td>2916</td>\n",
              "      <td>164788.778231</td>\n",
              "    </tr>\n",
              "    <tr>\n",
              "      <th>1456</th>\n",
              "      <td>2917</td>\n",
              "      <td>219222.423400</td>\n",
              "    </tr>\n",
              "    <tr>\n",
              "      <th>1457</th>\n",
              "      <td>2918</td>\n",
              "      <td>184924.279659</td>\n",
              "    </tr>\n",
              "    <tr>\n",
              "      <th>1458</th>\n",
              "      <td>2919</td>\n",
              "      <td>187741.866657</td>\n",
              "    </tr>\n",
              "  </tbody>\n",
              "</table>\n",
              "<p>1459 rows × 2 columns</p>\n",
              "</div>\n",
              "      <button class=\"colab-df-convert\" onclick=\"convertToInteractive('df-47f6dab4-c107-4a04-96e8-7142dbdda268')\"\n",
              "              title=\"Convert this dataframe to an interactive table.\"\n",
              "              style=\"display:none;\">\n",
              "\n",
              "  <svg xmlns=\"http://www.w3.org/2000/svg\" height=\"24px\"viewBox=\"0 0 24 24\"\n",
              "       width=\"24px\">\n",
              "    <path d=\"M0 0h24v24H0V0z\" fill=\"none\"/>\n",
              "    <path d=\"M18.56 5.44l.94 2.06.94-2.06 2.06-.94-2.06-.94-.94-2.06-.94 2.06-2.06.94zm-11 1L8.5 8.5l.94-2.06 2.06-.94-2.06-.94L8.5 2.5l-.94 2.06-2.06.94zm10 10l.94 2.06.94-2.06 2.06-.94-2.06-.94-.94-2.06-.94 2.06-2.06.94z\"/><path d=\"M17.41 7.96l-1.37-1.37c-.4-.4-.92-.59-1.43-.59-.52 0-1.04.2-1.43.59L10.3 9.45l-7.72 7.72c-.78.78-.78 2.05 0 2.83L4 21.41c.39.39.9.59 1.41.59.51 0 1.02-.2 1.41-.59l7.78-7.78 2.81-2.81c.8-.78.8-2.07 0-2.86zM5.41 20L4 18.59l7.72-7.72 1.47 1.35L5.41 20z\"/>\n",
              "  </svg>\n",
              "      </button>\n",
              "\n",
              "\n",
              "\n",
              "    <div id=\"df-dfc23bcc-c34c-4bd4-905a-8bc09aa4f782\">\n",
              "      <button class=\"colab-df-quickchart\" onclick=\"quickchart('df-dfc23bcc-c34c-4bd4-905a-8bc09aa4f782')\"\n",
              "              title=\"Suggest charts.\"\n",
              "              style=\"display:none;\">\n",
              "\n",
              "<svg xmlns=\"http://www.w3.org/2000/svg\" height=\"24px\"viewBox=\"0 0 24 24\"\n",
              "     width=\"24px\">\n",
              "    <g>\n",
              "        <path d=\"M19 3H5c-1.1 0-2 .9-2 2v14c0 1.1.9 2 2 2h14c1.1 0 2-.9 2-2V5c0-1.1-.9-2-2-2zM9 17H7v-7h2v7zm4 0h-2V7h2v10zm4 0h-2v-4h2v4z\"/>\n",
              "    </g>\n",
              "</svg>\n",
              "      </button>\n",
              "    </div>\n",
              "\n",
              "<style>\n",
              "  .colab-df-quickchart {\n",
              "    background-color: #E8F0FE;\n",
              "    border: none;\n",
              "    border-radius: 50%;\n",
              "    cursor: pointer;\n",
              "    display: none;\n",
              "    fill: #1967D2;\n",
              "    height: 32px;\n",
              "    padding: 0 0 0 0;\n",
              "    width: 32px;\n",
              "  }\n",
              "\n",
              "  .colab-df-quickchart:hover {\n",
              "    background-color: #E2EBFA;\n",
              "    box-shadow: 0px 1px 2px rgba(60, 64, 67, 0.3), 0px 1px 3px 1px rgba(60, 64, 67, 0.15);\n",
              "    fill: #174EA6;\n",
              "  }\n",
              "\n",
              "  [theme=dark] .colab-df-quickchart {\n",
              "    background-color: #3B4455;\n",
              "    fill: #D2E3FC;\n",
              "  }\n",
              "\n",
              "  [theme=dark] .colab-df-quickchart:hover {\n",
              "    background-color: #434B5C;\n",
              "    box-shadow: 0px 1px 3px 1px rgba(0, 0, 0, 0.15);\n",
              "    filter: drop-shadow(0px 1px 2px rgba(0, 0, 0, 0.3));\n",
              "    fill: #FFFFFF;\n",
              "  }\n",
              "</style>\n",
              "\n",
              "    <script>\n",
              "      async function quickchart(key) {\n",
              "        const containerElement = document.querySelector('#' + key);\n",
              "        const charts = await google.colab.kernel.invokeFunction(\n",
              "            'suggestCharts', [key], {});\n",
              "      }\n",
              "    </script>\n",
              "\n",
              "      <script>\n",
              "\n",
              "function displayQuickchartButton(domScope) {\n",
              "  let quickchartButtonEl =\n",
              "    domScope.querySelector('#df-dfc23bcc-c34c-4bd4-905a-8bc09aa4f782 button.colab-df-quickchart');\n",
              "  quickchartButtonEl.style.display =\n",
              "    google.colab.kernel.accessAllowed ? 'block' : 'none';\n",
              "}\n",
              "\n",
              "        displayQuickchartButton(document);\n",
              "      </script>\n",
              "      <style>\n",
              "    .colab-df-container {\n",
              "      display:flex;\n",
              "      flex-wrap:wrap;\n",
              "      gap: 12px;\n",
              "    }\n",
              "\n",
              "    .colab-df-convert {\n",
              "      background-color: #E8F0FE;\n",
              "      border: none;\n",
              "      border-radius: 50%;\n",
              "      cursor: pointer;\n",
              "      display: none;\n",
              "      fill: #1967D2;\n",
              "      height: 32px;\n",
              "      padding: 0 0 0 0;\n",
              "      width: 32px;\n",
              "    }\n",
              "\n",
              "    .colab-df-convert:hover {\n",
              "      background-color: #E2EBFA;\n",
              "      box-shadow: 0px 1px 2px rgba(60, 64, 67, 0.3), 0px 1px 3px 1px rgba(60, 64, 67, 0.15);\n",
              "      fill: #174EA6;\n",
              "    }\n",
              "\n",
              "    [theme=dark] .colab-df-convert {\n",
              "      background-color: #3B4455;\n",
              "      fill: #D2E3FC;\n",
              "    }\n",
              "\n",
              "    [theme=dark] .colab-df-convert:hover {\n",
              "      background-color: #434B5C;\n",
              "      box-shadow: 0px 1px 3px 1px rgba(0, 0, 0, 0.15);\n",
              "      filter: drop-shadow(0px 1px 2px rgba(0, 0, 0, 0.3));\n",
              "      fill: #FFFFFF;\n",
              "    }\n",
              "  </style>\n",
              "\n",
              "      <script>\n",
              "        const buttonEl =\n",
              "          document.querySelector('#df-47f6dab4-c107-4a04-96e8-7142dbdda268 button.colab-df-convert');\n",
              "        buttonEl.style.display =\n",
              "          google.colab.kernel.accessAllowed ? 'block' : 'none';\n",
              "\n",
              "        async function convertToInteractive(key) {\n",
              "          const element = document.querySelector('#df-47f6dab4-c107-4a04-96e8-7142dbdda268');\n",
              "          const dataTable =\n",
              "            await google.colab.kernel.invokeFunction('convertToInteractive',\n",
              "                                                     [key], {});\n",
              "          if (!dataTable) return;\n",
              "\n",
              "          const docLinkHtml = 'Like what you see? Visit the ' +\n",
              "            '<a target=\"_blank\" href=https://colab.research.google.com/notebooks/data_table.ipynb>data table notebook</a>'\n",
              "            + ' to learn more about interactive tables.';\n",
              "          element.innerHTML = '';\n",
              "          dataTable['output_type'] = 'display_data';\n",
              "          await google.colab.output.renderOutput(dataTable, element);\n",
              "          const docLink = document.createElement('div');\n",
              "          docLink.innerHTML = docLinkHtml;\n",
              "          element.appendChild(docLink);\n",
              "        }\n",
              "      </script>\n",
              "    </div>\n",
              "  </div>\n"
            ]
          },
          "metadata": {},
          "execution_count": 87
        }
      ]
    },
    {
      "cell_type": "code",
      "source": [
        "data_samp_sub.iloc[1118]"
      ],
      "metadata": {
        "id": "m1vgijnkp37R",
        "colab": {
          "base_uri": "https://localhost:8080/"
        },
        "outputId": "96b363af-5539-4a01-9afe-338b304eb2bb"
      },
      "execution_count": 91,
      "outputs": [
        {
          "output_type": "execute_result",
          "data": {
            "text/plain": [
              "Id            2579.000000\n",
              "SalePrice    60869.289062\n",
              "Name: 1118, dtype: float64"
            ]
          },
          "metadata": {},
          "execution_count": 91
        }
      ]
    },
    {
      "cell_type": "code",
      "source": [
        "data_samp_sub.to_csv('submission.csv',index=False)"
      ],
      "metadata": {
        "id": "TZ116U7Lrc5p"
      },
      "execution_count": 89,
      "outputs": []
    },
    {
      "cell_type": "code",
      "source": [
        "# My second submission!!!!!\n",
        "!kaggle competitions submit -c house-prices-advanced-regression-techniques -f submission.csv -m \"Second ann try\""
      ],
      "metadata": {
        "colab": {
          "base_uri": "https://localhost:8080/"
        },
        "id": "cXZIGYXvssEY",
        "outputId": "4987794b-8fb5-4747-b645-b2fe4bbe2335"
      },
      "execution_count": 90,
      "outputs": [
        {
          "output_type": "stream",
          "name": "stdout",
          "text": [
            "100% 21.2k/21.2k [00:02<00:00, 10.3kB/s]\n",
            "Successfully submitted to House Prices - Advanced Regression Techniques"
          ]
        }
      ]
    },
    {
      "cell_type": "code",
      "source": [],
      "metadata": {
        "id": "q8IyqPZ4NDPG"
      },
      "execution_count": null,
      "outputs": []
    }
  ]
}